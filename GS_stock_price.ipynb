{
 "cells": [
  {
   "cell_type": "code",
   "execution_count": 68,
   "id": "0400c4f2",
   "metadata": {},
   "outputs": [],
   "source": [
    "import pandas as pd\n",
    "import numpy as np\n",
    "import matplotlib.pyplot as plt\n",
    "import seaborn as sns\n",
    "%matplotlib inline"
   ]
  },
  {
   "cell_type": "code",
   "execution_count": 69,
   "id": "a0db8aa9",
   "metadata": {},
   "outputs": [],
   "source": [
    "stock_data=pd.read_csv(\"GS.csv\")"
   ]
  },
  {
   "cell_type": "code",
   "execution_count": 70,
   "id": "ca63a29d",
   "metadata": {},
   "outputs": [
    {
     "data": {
      "text/html": [
       "<div>\n",
       "<style scoped>\n",
       "    .dataframe tbody tr th:only-of-type {\n",
       "        vertical-align: middle;\n",
       "    }\n",
       "\n",
       "    .dataframe tbody tr th {\n",
       "        vertical-align: top;\n",
       "    }\n",
       "\n",
       "    .dataframe thead th {\n",
       "        text-align: right;\n",
       "    }\n",
       "</style>\n",
       "<table border=\"1\" class=\"dataframe\">\n",
       "  <thead>\n",
       "    <tr style=\"text-align: right;\">\n",
       "      <th></th>\n",
       "      <th>Date</th>\n",
       "      <th>Open</th>\n",
       "      <th>High</th>\n",
       "      <th>Low</th>\n",
       "      <th>Close</th>\n",
       "      <th>Adj Close</th>\n",
       "      <th>Volume</th>\n",
       "    </tr>\n",
       "  </thead>\n",
       "  <tbody>\n",
       "    <tr>\n",
       "      <th>0</th>\n",
       "      <td>1999-05-04</td>\n",
       "      <td>76.0000</td>\n",
       "      <td>77.250</td>\n",
       "      <td>70.0000</td>\n",
       "      <td>70.3750</td>\n",
       "      <td>53.576797</td>\n",
       "      <td>22320900</td>\n",
       "    </tr>\n",
       "    <tr>\n",
       "      <th>1</th>\n",
       "      <td>1999-05-05</td>\n",
       "      <td>69.8750</td>\n",
       "      <td>69.875</td>\n",
       "      <td>66.2500</td>\n",
       "      <td>69.1250</td>\n",
       "      <td>52.625153</td>\n",
       "      <td>7565700</td>\n",
       "    </tr>\n",
       "    <tr>\n",
       "      <th>2</th>\n",
       "      <td>1999-05-06</td>\n",
       "      <td>68.0000</td>\n",
       "      <td>69.375</td>\n",
       "      <td>67.0625</td>\n",
       "      <td>67.9375</td>\n",
       "      <td>51.721100</td>\n",
       "      <td>2905700</td>\n",
       "    </tr>\n",
       "    <tr>\n",
       "      <th>3</th>\n",
       "      <td>1999-05-07</td>\n",
       "      <td>67.9375</td>\n",
       "      <td>74.875</td>\n",
       "      <td>66.7500</td>\n",
       "      <td>74.1250</td>\n",
       "      <td>56.431648</td>\n",
       "      <td>4862300</td>\n",
       "    </tr>\n",
       "    <tr>\n",
       "      <th>4</th>\n",
       "      <td>1999-05-10</td>\n",
       "      <td>73.3750</td>\n",
       "      <td>73.500</td>\n",
       "      <td>70.2500</td>\n",
       "      <td>70.6875</td>\n",
       "      <td>53.814709</td>\n",
       "      <td>2589400</td>\n",
       "    </tr>\n",
       "  </tbody>\n",
       "</table>\n",
       "</div>"
      ],
      "text/plain": [
       "         Date     Open    High      Low    Close  Adj Close    Volume\n",
       "0  1999-05-04  76.0000  77.250  70.0000  70.3750  53.576797  22320900\n",
       "1  1999-05-05  69.8750  69.875  66.2500  69.1250  52.625153   7565700\n",
       "2  1999-05-06  68.0000  69.375  67.0625  67.9375  51.721100   2905700\n",
       "3  1999-05-07  67.9375  74.875  66.7500  74.1250  56.431648   4862300\n",
       "4  1999-05-10  73.3750  73.500  70.2500  70.6875  53.814709   2589400"
      ]
     },
     "execution_count": 70,
     "metadata": {},
     "output_type": "execute_result"
    }
   ],
   "source": [
    "stock_data.head()"
   ]
  },
  {
   "cell_type": "code",
   "execution_count": 71,
   "id": "9da239a8",
   "metadata": {},
   "outputs": [
    {
     "name": "stdout",
     "output_type": "stream",
     "text": [
      "There are 1 categorical variables\n",
      "\n",
      "The categorical variables are :\n",
      "\n",
      " ['Date']\n"
     ]
    }
   ],
   "source": [
    "categorical = [var for var in stock_data.columns if stock_data[var].dtype=='O']\n",
    "\n",
    "print('There are {} categorical variables\\n'.format(len(categorical)))\n",
    "\n",
    "print('The categorical variables are :\\n\\n', categorical)"
   ]
  },
  {
   "cell_type": "code",
   "execution_count": 72,
   "id": "842ccfb1",
   "metadata": {},
   "outputs": [],
   "source": [
    "X = stock_data.drop(['Date','Close'], axis=1)\n",
    "y = stock_data['Close']"
   ]
  },
  {
   "cell_type": "code",
   "execution_count": 73,
   "id": "f94dc94c",
   "metadata": {},
   "outputs": [],
   "source": [
    "from sklearn.linear_model import LinearRegression\n",
    "from sklearn.model_selection import train_test_split\n",
    "from sklearn.metrics import mean_squared_error, r2_score"
   ]
  },
  {
   "cell_type": "code",
   "execution_count": 74,
   "id": "1179a036",
   "metadata": {},
   "outputs": [],
   "source": [
    "X_train, X_test, y_train, y_test = train_test_split(X, y, test_size=0.2, random_state=42)"
   ]
  },
  {
   "cell_type": "code",
   "execution_count": 75,
   "id": "93391b9e",
   "metadata": {},
   "outputs": [
    {
     "data": {
      "text/plain": [
       "LinearRegression()"
      ]
     },
     "execution_count": 75,
     "metadata": {},
     "output_type": "execute_result"
    }
   ],
   "source": [
    "reg_model = LinearRegression()\n",
    "reg_model.fit(X_train, y_train)"
   ]
  },
  {
   "cell_type": "code",
   "execution_count": 76,
   "id": "1a9f310a",
   "metadata": {},
   "outputs": [],
   "source": [
    "y_pred = reg_model.predict(X_test)"
   ]
  },
  {
   "cell_type": "code",
   "execution_count": 77,
   "id": "6b450f16",
   "metadata": {},
   "outputs": [],
   "source": [
    "mse = mean_squared_error(y_test, y_pred)\n",
    "r2 = r2_score(y_test, y_pred)"
   ]
  },
  {
   "cell_type": "code",
   "execution_count": 78,
   "id": "d850efe4",
   "metadata": {},
   "outputs": [
    {
     "name": "stdout",
     "output_type": "stream",
     "text": [
      "Mean Squared Error: 1.3057241544966574\n",
      "R-squared: 0.9997380046509899\n"
     ]
    }
   ],
   "source": [
    "print('Mean Squared Error:', mse)\n",
    "print('R-squared:', r2)"
   ]
  },
  {
   "cell_type": "code",
   "execution_count": 66,
   "id": "39f71091",
   "metadata": {},
   "outputs": [],
   "source": [
    "predictions = reg_model.predict( X_test)"
   ]
  },
  {
   "cell_type": "code",
   "execution_count": 67,
   "id": "4192035c",
   "metadata": {},
   "outputs": [
    {
     "data": {
      "text/plain": [
       "Text(0, 0.5, 'Predicted Y')"
      ]
     },
     "execution_count": 67,
     "metadata": {},
     "output_type": "execute_result"
    },
    {
     "data": {
      "image/png": "[encoded data removed]",
      "text/plain": [
       "<Figure size 640x480 with 1 Axes>"
      ]
     },
     "metadata": {},
     "output_type": "display_data"
    }
   ],
   "source": [
    "plt.scatter(y_test,predictions)\n",
    "plt.xlabel('Y Test')\n",
    "plt.ylabel('Predicted Y')"
   ]
  },
  {
   "cell_type": "code",
   "execution_count": null,
   "id": "76fa407c",
   "metadata": {},
   "outputs": [],
   "source": []
  }
 ],
 "metadata": {
  "kernelspec": {
   "display_name": "Python 3 (ipykernel)",
   "language": "python",
   "name": "python3"
  },
  "language_info": {
   "codemirror_mode": {
    "name": "ipython",
    "version": 3
   },
   "file_extension": ".py",
   "mimetype": "text/x-python",
   "name": "python",
   "nbconvert_exporter": "python",
   "pygments_lexer": "ipython3",
   "version": "3.9.13"
  }
 },
 "nbformat": 4,
 "nbformat_minor": 5
}
